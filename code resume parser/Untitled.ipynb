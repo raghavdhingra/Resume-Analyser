{
 "cells": [
  {
   "cell_type": "code",
   "execution_count": 76,
   "metadata": {},
   "outputs": [
    {
     "data": {
      "text/plain": [
       "2056"
      ]
     },
     "execution_count": 76,
     "metadata": {},
     "output_type": "execute_result"
    }
   ],
   "source": [
    "from PIL import Image\n",
    "import pytesseract\n",
    "data =str(pytesseract.image_to_string(Image.open('download1.png'))).replace('\\n', ' \\n ')\n",
    "\n",
    "file = open(\"resume.txt\",\"w+\") \n",
    "file.write(data)"
   ]
  },
  {
   "cell_type": "code",
   "execution_count": 87,
   "metadata": {},
   "outputs": [
    {
     "name": "stdout",
     "output_type": "stream",
     "text": [
      "Jane Roe \n",
      " Business Development Manager \n",
      "  \n",
      " Professional Business Developer with more than four years of experience in the business development processes. \n",
      " Involved in product testing, management, and development of new business opportunities. \n",
      "  \n",
      "   \n",
      "  \n",
      " Ener nr] LR AUS \n",
      " SKILLS \n",
      " SEO Public Speaking Negotiation Teamwork \n",
      " Decision Making Research & Strategy Emotional Intelligence Outbound Marketing \n",
      " Email Marketing Google Analytics Sales & Marketing Social Media Advertising \n",
      "  \n",
      " WORK EXPERIENCE \n",
      "  \n",
      " — Business Development Manager \n",
      " AirState Solutions \n",
      " 09/2014 - 06/2017 New York, USA \n",
      " © Successfully managed $2 - 3 million budget projects and successfully achieved the project scheduled goals. \n",
      " ° Developed and implemented new marketing and sales plans and defined the strategy for the next 5 years. \n",
      "  \n",
      " © Reviewed constantly the customer Feedback and then suggested ways to improve the processes and customer service \n",
      " levels which increased the satisfaction rate from 81% to 95%. \n",
      "  \n",
      " © Ensured that new clients will grow into a loyal customer base in a specialist niche market by implementing a new \n",
      " loyalty program, \n",
      "  \n",
      " — Business Development Assistant \n",
      " AirState Solutions \n",
      " 08/2012 - 09/2014 Chicago, USA \n",
      " © Increased the customer satisfaction rate by 25% by improving the customer service. \n",
      " © Planned, supervised, and coordinated daily activity of 3 junior business analysts. \n",
      " © Improved the communication with the Marketing department to better understand the competitive position. \n",
      " © Directed the creation and implementation of a Business Continuity Plan, and the management of audit programs. \n",
      "  \n",
      " EDUCATION \n",
      "  \n",
      " — MSc in Economics and Business Administration \n",
      " The University of Chicago \n",
      " 09/2008 - 06/2010 \n",
      "  \n",
      " ORGANIZATIONS \n",
      " American Management Association Association of Private Enterprise Education \n",
      " (2015 - Present) (2014 - Present) \n",
      "  \n",
      " eBusiness Association (eBA) (2013 — Present) \n",
      "  \n",
      " LANGUAGES \n",
      "  \n",
      " English Spanish French \n",
      " Native or Bilingual Proficiency Full Professional Proficiency Limited Working Proficiency\n"
     ]
    }
   ],
   "source": [
    "print(data)"
   ]
  },
  {
   "cell_type": "code",
   "execution_count": null,
   "metadata": {},
   "outputs": [],
   "source": []
  },
  {
   "cell_type": "code",
   "execution_count": null,
   "metadata": {},
   "outputs": [],
   "source": []
  },
  {
   "cell_type": "code",
   "execution_count": 88,
   "metadata": {},
   "outputs": [
    {
     "name": "stdout",
     "output_type": "stream",
     "text": [
      "Jane Roe  \n",
      "  Business Development Manager  \n",
      "    \n",
      "  Professional Business Developer with more than four years of experience in the business development processes.  \n",
      "  Involved in product testing, management, and development of new business opportunities.  \n",
      "    \n",
      "     \n",
      "    \n",
      "  Ener nr] LR AUS  \n",
      "  SKILLS  \n",
      "  SEO Public Speaking Negotiation Teamwork  \n",
      "  Decision Making Research & Strategy Emotional Intelligence Outbound Marketing  \n",
      "  Email Marketing Google Analytics Sales & Marketing Social Media Advertising  \n",
      "    \n",
      "  WORK EXPERIENCE  \n",
      "    \n",
      "  — Business Development Manager  \n",
      "  AirState Solutions  \n",
      "  09/2014 - 06/2017 New York, USA  \n",
      "  © Successfully managed $2 - 3 million budget projects and successfully achieved the project scheduled goals.  \n",
      "  ° Developed and implemented new marketing and sales plans and defined the strategy for the next 5 years.  \n",
      "    \n",
      "  © Reviewed constantly the customer Feedback and then suggested ways to improve the processes and customer service  \n",
      "  levels which increased the satisfaction rate from 81% to 95%.  \n",
      "    \n",
      "  © Ensured that new clients will grow into a loyal customer base in a specialist niche market by implementing a new  \n",
      "  loyalty program,  \n",
      "    \n",
      "  — Business Development Assistant  \n",
      "  AirState Solutions  \n",
      "  08/2012 - 09/2014 Chicago, USA  \n",
      "  © Increased the customer satisfaction rate by 25% by improving the customer service.  \n",
      "  © Planned, supervised, and coordinated daily activity of 3 junior business analysts.  \n",
      "  © Improved the communication with the Marketing department to better understand the competitive position.  \n",
      "  © Directed the creation and implementation of a Business Continuity Plan, and the management of audit programs.  \n",
      "    \n",
      "  EDUCATION  \n",
      "    \n",
      "  — MSc in Economics and Business Administration  \n",
      "  The University of Chicago  \n",
      "  09/2008 - 06/2010  \n",
      "    \n",
      "  ORGANIZATIONS  \n",
      "  American Management Association Association of Private Enterprise Education  \n",
      "  (2015 - Present) (2014 - Present)  \n",
      "    \n",
      "  eBusiness Association (eBA) (2013 — Present)  \n",
      "    \n",
      "  LANGUAGES  \n",
      "    \n",
      "  English Spanish French  \n",
      "  Native or Bilingual Proficiency Full Professional Proficiency Limited Working Proficiency\n"
     ]
    }
   ],
   "source": [
    "print(data.replace('\\n', ' \\n '))"
   ]
  },
  {
   "cell_type": "code",
   "execution_count": null,
   "metadata": {},
   "outputs": [],
   "source": []
  }
 ],
 "metadata": {
  "kernelspec": {
   "display_name": "Python 3",
   "language": "python",
   "name": "python3"
  },
  "language_info": {
   "codemirror_mode": {
    "name": "ipython",
    "version": 3
   },
   "file_extension": ".py",
   "mimetype": "text/x-python",
   "name": "python",
   "nbconvert_exporter": "python",
   "pygments_lexer": "ipython3",
   "version": "3.6.7"
  }
 },
 "nbformat": 4,
 "nbformat_minor": 2
}

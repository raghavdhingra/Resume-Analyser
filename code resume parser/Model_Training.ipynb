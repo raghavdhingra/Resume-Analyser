{
 "cells": [
  {
   "cell_type": "code",
   "execution_count": 1,
   "metadata": {},
   "outputs": [],
   "source": [
    "import logging\n",
    "logging.basicConfig(format='%(asctime)s : %(levelname)s : %(message)s', level=logging.INFO)"
   ]
  },
  {
   "cell_type": "code",
   "execution_count": 2,
   "metadata": {},
   "outputs": [
    {
     "name": "stderr",
     "output_type": "stream",
     "text": [
      "2020-02-05 00:33:36,253 : INFO : 'pattern' package not found; tag filters are not available for English\n"
     ]
    }
   ],
   "source": [
    "import os,os.path\n",
    "import gensim,re "
   ]
  },
  {
   "cell_type": "code",
   "execution_count": 3,
   "metadata": {},
   "outputs": [],
   "source": [
    "class MySentences(object):\n",
    "    def __init__(self, dirname):\n",
    "        self.dirname = dirname\n",
    " \n",
    "    def __iter__(self):\n",
    "        for each in os.listdir(self.dirname):\n",
    "            if each != '.DS_Store':\n",
    "                logging.info('INITIATED: Processing sentences for '+each)\n",
    "                with open(os.path.join(self.dirname,each),'r', encoding='utf-8') as fin:\n",
    "                    for line in fin:\n",
    "                        review_text = re.sub(\"[^a-zA-Z]\",\" \", line)\n",
    "                        yield review_text.split()"
   ]
  },
  {
   "cell_type": "code",
   "execution_count": 4,
   "metadata": {},
   "outputs": [
    {
     "name": "stdout",
     "output_type": "stream",
     "text": [
      "<__main__.MySentences object at 0x7f15a875e7f0>\n"
     ]
    }
   ],
   "source": [
    "sentences = MySentences('Sentences')\n",
    "print(sentences)"
   ]
  },
  {
   "cell_type": "code",
   "execution_count": 5,
   "metadata": {},
   "outputs": [
    {
     "name": "stderr",
     "output_type": "stream",
     "text": [
      "2020-02-05 00:33:36,707 : INFO : INITIATED: Processing sentences for sample_bitcoin.stackexchange_paras.txt\n",
      "2020-02-05 00:33:39,950 : INFO : INITIATED: Processing sentences for sample_bitcoin.stackexchange_sentences.txt\n"
     ]
    }
   ],
   "source": [
    "from collections import defaultdict\n",
    "d = defaultdict(lambda : 0)\n",
    "for each in sentences:\n",
    "    d[len(each)] += 1"
   ]
  },
  {
   "cell_type": "code",
   "execution_count": 6,
   "metadata": {},
   "outputs": [
    {
     "data": {
      "text/plain": [
       "<Figure size 640x480 with 1 Axes>"
      ]
     },
     "metadata": {},
     "output_type": "display_data"
    }
   ],
   "source": [
    "import operator\n",
    "d = dict(sorted(d.items(), key=operator.itemgetter(1), reverse=True)[:10])\n",
    "\n",
    "import matplotlib.pyplot as plt\n",
    "\n",
    "plt.bar(range(len(d)), d.values(), align='center')\n",
    "plt.xticks(range(len(d)), d.keys())\n",
    "plt.ylabel(\"Number of sentences\")\n",
    "plt.xlabel(\"Number of words in that sentence\")\n",
    "plt.savefig('context.jpg')\n",
    "plt.show()"
   ]
  },
  {
   "cell_type": "code",
   "execution_count": 7,
   "metadata": {},
   "outputs": [
    {
     "name": "stderr",
     "output_type": "stream",
     "text": [
      "2020-02-05 00:33:43,160 : INFO : collecting all words and their counts\n",
      "2020-02-05 00:33:43,161 : INFO : INITIATED: Processing sentences for sample_bitcoin.stackexchange_paras.txt\n",
      "2020-02-05 00:33:43,163 : INFO : PROGRESS: at sentence #0, processed 0 words, keeping 0 word types\n",
      "2020-02-05 00:33:43,320 : INFO : PROGRESS: at sentence #10000, processed 179389 words, keeping 8509 word types\n",
      "2020-02-05 00:33:43,451 : INFO : PROGRESS: at sentence #20000, processed 339481 words, keeping 11860 word types\n",
      "2020-02-05 00:33:43,569 : INFO : PROGRESS: at sentence #30000, processed 490560 words, keeping 14346 word types\n",
      "2020-02-05 00:33:43,695 : INFO : PROGRESS: at sentence #40000, processed 640523 words, keeping 16288 word types\n",
      "2020-02-05 00:33:43,824 : INFO : PROGRESS: at sentence #50000, processed 771474 words, keeping 17889 word types\n",
      "2020-02-05 00:33:43,946 : INFO : PROGRESS: at sentence #60000, processed 910716 words, keeping 19380 word types\n",
      "2020-02-05 00:33:44,095 : INFO : PROGRESS: at sentence #70000, processed 1052861 words, keeping 20596 word types\n",
      "2020-02-05 00:33:44,204 : INFO : PROGRESS: at sentence #80000, processed 1193490 words, keeping 22077 word types\n",
      "2020-02-05 00:33:44,313 : INFO : PROGRESS: at sentence #90000, processed 1333494 words, keeping 23496 word types\n",
      "2020-02-05 00:33:44,428 : INFO : PROGRESS: at sentence #100000, processed 1479887 words, keeping 24981 word types\n",
      "2020-02-05 00:33:44,535 : INFO : PROGRESS: at sentence #110000, processed 1623049 words, keeping 26188 word types\n",
      "2020-02-05 00:33:44,649 : INFO : PROGRESS: at sentence #120000, processed 1764911 words, keeping 27485 word types\n",
      "2020-02-05 00:33:44,753 : INFO : PROGRESS: at sentence #130000, processed 1897896 words, keeping 28833 word types\n",
      "2020-02-05 00:33:44,859 : INFO : PROGRESS: at sentence #140000, processed 2037039 words, keeping 30450 word types\n",
      "2020-02-05 00:33:44,970 : INFO : PROGRESS: at sentence #150000, processed 2182807 words, keeping 31569 word types\n",
      "2020-02-05 00:33:45,073 : INFO : PROGRESS: at sentence #160000, processed 2312363 words, keeping 32754 word types\n",
      "2020-02-05 00:33:45,183 : INFO : PROGRESS: at sentence #170000, processed 2452303 words, keeping 34081 word types\n",
      "2020-02-05 00:33:45,287 : INFO : PROGRESS: at sentence #180000, processed 2578284 words, keeping 35386 word types\n",
      "2020-02-05 00:33:45,392 : INFO : PROGRESS: at sentence #190000, processed 2707941 words, keeping 36427 word types\n",
      "2020-02-05 00:33:45,542 : INFO : PROGRESS: at sentence #200000, processed 2833829 words, keeping 37498 word types\n",
      "2020-02-05 00:33:45,644 : INFO : PROGRESS: at sentence #210000, processed 2952415 words, keeping 38535 word types\n",
      "2020-02-05 00:33:45,747 : INFO : PROGRESS: at sentence #220000, processed 3076297 words, keeping 39710 word types\n",
      "2020-02-05 00:33:45,850 : INFO : PROGRESS: at sentence #230000, processed 3209829 words, keeping 40747 word types\n",
      "2020-02-05 00:33:45,960 : INFO : PROGRESS: at sentence #240000, processed 3344328 words, keeping 41817 word types\n",
      "2020-02-05 00:33:46,067 : INFO : PROGRESS: at sentence #250000, processed 3481698 words, keeping 42876 word types\n",
      "2020-02-05 00:33:46,169 : INFO : PROGRESS: at sentence #260000, processed 3605249 words, keeping 44072 word types\n",
      "2020-02-05 00:33:46,277 : INFO : PROGRESS: at sentence #270000, processed 3736485 words, keeping 45050 word types\n",
      "2020-02-05 00:33:46,384 : INFO : PROGRESS: at sentence #280000, processed 3864346 words, keeping 45956 word types\n",
      "2020-02-05 00:33:46,495 : INFO : PROGRESS: at sentence #290000, processed 4001185 words, keeping 47046 word types\n",
      "2020-02-05 00:33:46,607 : INFO : PROGRESS: at sentence #300000, processed 4133566 words, keeping 47964 word types\n",
      "2020-02-05 00:33:46,678 : INFO : INITIATED: Processing sentences for sample_bitcoin.stackexchange_sentences.txt\n",
      "2020-02-05 00:33:46,730 : INFO : PROGRESS: at sentence #310000, processed 4282778 words, keeping 48710 word types\n",
      "2020-02-05 00:33:46,973 : INFO : PROGRESS: at sentence #320000, processed 4477152 words, keeping 48712 word types\n",
      "2020-02-05 00:33:47,128 : INFO : PROGRESS: at sentence #330000, processed 4666529 words, keeping 48713 word types\n",
      "2020-02-05 00:33:47,258 : INFO : PROGRESS: at sentence #340000, processed 4849603 words, keeping 48713 word types\n",
      "2020-02-05 00:33:47,382 : INFO : PROGRESS: at sentence #350000, processed 5031004 words, keeping 48714 word types\n",
      "2020-02-05 00:33:47,506 : INFO : PROGRESS: at sentence #360000, processed 5209455 words, keeping 48717 word types\n",
      "2020-02-05 00:33:47,634 : INFO : PROGRESS: at sentence #370000, processed 5388215 words, keeping 48717 word types\n",
      "2020-02-05 00:33:47,761 : INFO : PROGRESS: at sentence #380000, processed 5567527 words, keeping 48721 word types\n",
      "2020-02-05 00:33:47,895 : INFO : PROGRESS: at sentence #390000, processed 5753605 words, keeping 48724 word types\n",
      "2020-02-05 00:33:48,028 : INFO : PROGRESS: at sentence #400000, processed 5936942 words, keeping 48725 word types\n",
      "2020-02-05 00:33:48,156 : INFO : PROGRESS: at sentence #410000, processed 6121140 words, keeping 48726 word types\n",
      "2020-02-05 00:33:48,279 : INFO : PROGRESS: at sentence #420000, processed 6296040 words, keeping 48732 word types\n",
      "2020-02-05 00:33:48,408 : INFO : PROGRESS: at sentence #430000, processed 6477468 words, keeping 48739 word types\n",
      "2020-02-05 00:33:48,543 : INFO : PROGRESS: at sentence #440000, processed 6655742 words, keeping 48740 word types\n",
      "2020-02-05 00:33:48,668 : INFO : PROGRESS: at sentence #450000, processed 6832232 words, keeping 48746 word types\n",
      "2020-02-05 00:33:48,792 : INFO : PROGRESS: at sentence #460000, processed 7012807 words, keeping 48747 word types\n",
      "2020-02-05 00:33:48,858 : INFO : collected 48748 word types from a corpus of 7107093 raw words and 465405 sentences\n",
      "2020-02-05 00:33:48,859 : INFO : Loading a fresh vocabulary\n",
      "2020-02-05 00:33:48,973 : INFO : effective_min_count=1 retains 48748 unique words (100% of original 48748, drops 0)\n",
      "2020-02-05 00:33:48,974 : INFO : effective_min_count=1 leaves 7107093 word corpus (100% of original 7107093, drops 0)\n",
      "2020-02-05 00:33:49,090 : INFO : deleting the raw counts dictionary of 48748 items\n",
      "2020-02-05 00:33:49,091 : INFO : sample=0.001 downsamples 57 most-common words\n",
      "2020-02-05 00:33:49,092 : INFO : downsampling leaves estimated 5355116 word corpus (75.3% of prior 7107093)\n",
      "2020-02-05 00:33:49,233 : INFO : estimated required memory for 48748 words and 300 dimensions: 141369200 bytes\n",
      "2020-02-05 00:33:49,233 : INFO : resetting layer weights\n",
      "2020-02-05 00:33:49,848 : INFO : training model with 4 workers on 48748 vocabulary and 300 features, using sg=0 hs=0 sample=0.001 negative=5 window=15\n",
      "2020-02-05 00:33:49,852 : INFO : INITIATED: Processing sentences for sample_bitcoin.stackexchange_paras.txt\n",
      "2020-02-05 00:33:50,853 : INFO : EPOCH 1 - PROGRESS: at 4.85% examples, 281187 words/s, in_qsize 0, out_qsize 1\n",
      "2020-02-05 00:33:51,859 : INFO : EPOCH 1 - PROGRESS: at 11.55% examples, 303439 words/s, in_qsize 0, out_qsize 1\n",
      "2020-02-05 00:33:52,887 : INFO : EPOCH 1 - PROGRESS: at 18.29% examples, 310758 words/s, in_qsize 0, out_qsize 0\n",
      "2020-02-05 00:33:53,899 : INFO : EPOCH 1 - PROGRESS: at 25.99% examples, 326767 words/s, in_qsize 0, out_qsize 0\n",
      "2020-02-05 00:33:54,933 : INFO : EPOCH 1 - PROGRESS: at 34.06% examples, 336857 words/s, in_qsize 0, out_qsize 0\n",
      "2020-02-05 00:33:55,942 : INFO : EPOCH 1 - PROGRESS: at 42.16% examples, 341961 words/s, in_qsize 0, out_qsize 0\n",
      "2020-02-05 00:33:56,966 : INFO : EPOCH 1 - PROGRESS: at 48.71% examples, 333285 words/s, in_qsize 0, out_qsize 1\n",
      "2020-02-05 00:33:57,973 : INFO : EPOCH 1 - PROGRESS: at 56.17% examples, 334374 words/s, in_qsize 0, out_qsize 1\n",
      "2020-02-05 00:33:59,007 : INFO : EPOCH 1 - PROGRESS: at 62.32% examples, 327776 words/s, in_qsize 0, out_qsize 0\n",
      "2020-02-05 00:33:59,492 : INFO : INITIATED: Processing sentences for sample_bitcoin.stackexchange_sentences.txt\n",
      "2020-02-05 00:34:00,011 : INFO : EPOCH 1 - PROGRESS: at 68.56% examples, 329694 words/s, in_qsize 0, out_qsize 1\n",
      "2020-02-05 00:34:01,018 : INFO : EPOCH 1 - PROGRESS: at 74.46% examples, 334565 words/s, in_qsize 0, out_qsize 0\n",
      "2020-02-05 00:34:02,030 : INFO : EPOCH 1 - PROGRESS: at 80.84% examples, 339755 words/s, in_qsize 1, out_qsize 0\n",
      "2020-02-05 00:34:03,044 : INFO : EPOCH 1 - PROGRESS: at 85.84% examples, 338283 words/s, in_qsize 0, out_qsize 0\n"
     ]
    },
    {
     "name": "stderr",
     "output_type": "stream",
     "text": [
      "2020-02-05 00:34:04,067 : INFO : EPOCH 1 - PROGRESS: at 90.75% examples, 335788 words/s, in_qsize 0, out_qsize 0\n",
      "2020-02-05 00:34:05,085 : INFO : EPOCH 1 - PROGRESS: at 96.50% examples, 337225 words/s, in_qsize 0, out_qsize 1\n",
      "2020-02-05 00:34:05,931 : INFO : worker thread finished; awaiting finish of 3 more threads\n",
      "2020-02-05 00:34:05,940 : INFO : worker thread finished; awaiting finish of 2 more threads\n",
      "2020-02-05 00:34:05,980 : INFO : worker thread finished; awaiting finish of 1 more threads\n",
      "2020-02-05 00:34:05,989 : INFO : worker thread finished; awaiting finish of 0 more threads\n",
      "2020-02-05 00:34:05,991 : INFO : EPOCH - 1 : training on 7107093 raw words (5356421 effective words) took 16.1s, 331902 effective words/s\n",
      "2020-02-05 00:34:05,998 : INFO : INITIATED: Processing sentences for sample_bitcoin.stackexchange_paras.txt\n",
      "2020-02-05 00:34:07,001 : INFO : EPOCH 2 - PROGRESS: at 2.76% examples, 169970 words/s, in_qsize 1, out_qsize 1\n",
      "2020-02-05 00:34:08,013 : INFO : EPOCH 2 - PROGRESS: at 6.86% examples, 191336 words/s, in_qsize 1, out_qsize 0\n",
      "2020-02-05 00:34:09,027 : INFO : EPOCH 2 - PROGRESS: at 12.29% examples, 213048 words/s, in_qsize 2, out_qsize 0\n",
      "2020-02-05 00:34:10,041 : INFO : EPOCH 2 - PROGRESS: at 17.86% examples, 227560 words/s, in_qsize 0, out_qsize 1\n",
      "2020-02-05 00:34:11,052 : INFO : EPOCH 2 - PROGRESS: at 24.44% examples, 246679 words/s, in_qsize 0, out_qsize 1\n",
      "2020-02-05 00:34:12,061 : INFO : EPOCH 2 - PROGRESS: at 31.40% examples, 261131 words/s, in_qsize 0, out_qsize 0\n",
      "2020-02-05 00:34:13,148 : INFO : EPOCH 2 - PROGRESS: at 39.21% examples, 273045 words/s, in_qsize 0, out_qsize 0\n",
      "2020-02-05 00:34:14,156 : INFO : EPOCH 2 - PROGRESS: at 45.51% examples, 272859 words/s, in_qsize 0, out_qsize 0\n",
      "2020-02-05 00:34:15,200 : INFO : EPOCH 2 - PROGRESS: at 52.82% examples, 278581 words/s, in_qsize 6, out_qsize 0\n",
      "2020-02-05 00:34:16,215 : INFO : EPOCH 2 - PROGRESS: at 61.37% examples, 289100 words/s, in_qsize 0, out_qsize 0\n",
      "2020-02-05 00:34:16,759 : INFO : INITIATED: Processing sentences for sample_bitcoin.stackexchange_sentences.txt\n",
      "2020-02-05 00:34:17,256 : INFO : EPOCH 2 - PROGRESS: at 68.22% examples, 295300 words/s, in_qsize 0, out_qsize 1\n",
      "2020-02-05 00:34:18,276 : INFO : EPOCH 2 - PROGRESS: at 72.24% examples, 292380 words/s, in_qsize 0, out_qsize 0\n",
      "2020-02-05 00:34:19,286 : INFO : EPOCH 2 - PROGRESS: at 77.35% examples, 294640 words/s, in_qsize 6, out_qsize 0\n",
      "2020-02-05 00:34:20,302 : INFO : EPOCH 2 - PROGRESS: at 82.72% examples, 297492 words/s, in_qsize 0, out_qsize 0\n",
      "2020-02-05 00:34:21,302 : INFO : EPOCH 2 - PROGRESS: at 86.90% examples, 295830 words/s, in_qsize 5, out_qsize 1\n",
      "2020-02-05 00:34:22,332 : INFO : EPOCH 2 - PROGRESS: at 91.93% examples, 296671 words/s, in_qsize 4, out_qsize 1\n",
      "2020-02-05 00:34:23,365 : INFO : EPOCH 2 - PROGRESS: at 98.41% examples, 302545 words/s, in_qsize 1, out_qsize 2\n",
      "2020-02-05 00:34:23,577 : INFO : worker thread finished; awaiting finish of 3 more threads\n",
      "2020-02-05 00:34:23,583 : INFO : worker thread finished; awaiting finish of 2 more threads\n",
      "2020-02-05 00:34:23,587 : INFO : worker thread finished; awaiting finish of 1 more threads\n",
      "2020-02-05 00:34:23,629 : INFO : worker thread finished; awaiting finish of 0 more threads\n",
      "2020-02-05 00:34:23,632 : INFO : EPOCH - 2 : training on 7107093 raw words (5352982 effective words) took 17.6s, 303564 effective words/s\n",
      "2020-02-05 00:34:23,640 : INFO : INITIATED: Processing sentences for sample_bitcoin.stackexchange_paras.txt\n",
      "2020-02-05 00:34:24,676 : INFO : EPOCH 3 - PROGRESS: at 5.41% examples, 300459 words/s, in_qsize 0, out_qsize 0\n",
      "2020-02-05 00:34:25,722 : INFO : EPOCH 3 - PROGRESS: at 12.43% examples, 313764 words/s, in_qsize 1, out_qsize 0\n",
      "2020-02-05 00:34:26,730 : INFO : EPOCH 3 - PROGRESS: at 18.13% examples, 302753 words/s, in_qsize 0, out_qsize 0\n",
      "2020-02-05 00:34:27,734 : INFO : EPOCH 3 - PROGRESS: at 23.54% examples, 293801 words/s, in_qsize 0, out_qsize 1\n",
      "2020-02-05 00:34:28,744 : INFO : EPOCH 3 - PROGRESS: at 30.41% examples, 300035 words/s, in_qsize 0, out_qsize 0\n",
      "2020-02-05 00:34:29,745 : INFO : EPOCH 3 - PROGRESS: at 37.52% examples, 307491 words/s, in_qsize 0, out_qsize 0\n",
      "2020-02-05 00:34:30,745 : INFO : EPOCH 3 - PROGRESS: at 43.75% examples, 302743 words/s, in_qsize 0, out_qsize 0\n",
      "2020-02-05 00:34:31,746 : INFO : EPOCH 3 - PROGRESS: at 50.82% examples, 304451 words/s, in_qsize 5, out_qsize 1\n",
      "2020-02-05 00:34:32,761 : INFO : EPOCH 3 - PROGRESS: at 58.24% examples, 308323 words/s, in_qsize 0, out_qsize 1\n",
      "2020-02-05 00:34:33,789 : INFO : EPOCH 3 - PROGRESS: at 65.21% examples, 309038 words/s, in_qsize 1, out_qsize 0\n",
      "2020-02-05 00:34:33,818 : INFO : INITIATED: Processing sentences for sample_bitcoin.stackexchange_sentences.txt\n",
      "2020-02-05 00:34:34,804 : INFO : EPOCH 3 - PROGRESS: at 70.15% examples, 309480 words/s, in_qsize 0, out_qsize 0\n",
      "2020-02-05 00:34:35,823 : INFO : EPOCH 3 - PROGRESS: at 75.18% examples, 310306 words/s, in_qsize 4, out_qsize 0\n",
      "2020-02-05 00:34:36,846 : INFO : EPOCH 3 - PROGRESS: at 80.35% examples, 310954 words/s, in_qsize 0, out_qsize 0\n",
      "2020-02-05 00:34:37,875 : INFO : EPOCH 3 - PROGRESS: at 85.84% examples, 313434 words/s, in_qsize 8, out_qsize 0\n",
      "2020-02-05 00:34:38,908 : INFO : EPOCH 3 - PROGRESS: at 92.85% examples, 321534 words/s, in_qsize 0, out_qsize 0\n",
      "2020-02-05 00:34:39,921 : INFO : EPOCH 3 - PROGRESS: at 99.49% examples, 327067 words/s, in_qsize 5, out_qsize 0\n",
      "2020-02-05 00:34:39,932 : INFO : worker thread finished; awaiting finish of 3 more threads\n",
      "2020-02-05 00:34:39,948 : INFO : worker thread finished; awaiting finish of 2 more threads\n",
      "2020-02-05 00:34:39,959 : INFO : worker thread finished; awaiting finish of 1 more threads\n",
      "2020-02-05 00:34:39,961 : INFO : worker thread finished; awaiting finish of 0 more threads\n",
      "2020-02-05 00:34:39,962 : INFO : EPOCH - 3 : training on 7107093 raw words (5355773 effective words) took 16.3s, 328140 effective words/s\n",
      "2020-02-05 00:34:39,968 : INFO : INITIATED: Processing sentences for sample_bitcoin.stackexchange_paras.txt\n",
      "2020-02-05 00:34:40,972 : INFO : EPOCH 4 - PROGRESS: at 5.85% examples, 332599 words/s, in_qsize 0, out_qsize 0\n",
      "2020-02-05 00:34:41,988 : INFO : EPOCH 4 - PROGRESS: at 12.72% examples, 330769 words/s, in_qsize 2, out_qsize 0\n",
      "2020-02-05 00:34:43,004 : INFO : EPOCH 4 - PROGRESS: at 20.34% examples, 342477 words/s, in_qsize 0, out_qsize 0\n",
      "2020-02-05 00:34:44,017 : INFO : EPOCH 4 - PROGRESS: at 28.20% examples, 352383 words/s, in_qsize 0, out_qsize 0\n",
      "2020-02-05 00:34:45,038 : INFO : EPOCH 4 - PROGRESS: at 35.08% examples, 346461 words/s, in_qsize 0, out_qsize 1\n",
      "2020-02-05 00:34:46,050 : INFO : EPOCH 4 - PROGRESS: at 43.53% examples, 352320 words/s, in_qsize 0, out_qsize 0\n",
      "2020-02-05 00:34:47,053 : INFO : EPOCH 4 - PROGRESS: at 51.14% examples, 350308 words/s, in_qsize 0, out_qsize 0\n",
      "2020-02-05 00:34:48,059 : INFO : EPOCH 4 - PROGRESS: at 58.92% examples, 351258 words/s, in_qsize 0, out_qsize 0\n",
      "2020-02-05 00:34:48,890 : INFO : INITIATED: Processing sentences for sample_bitcoin.stackexchange_sentences.txt\n",
      "2020-02-05 00:34:49,077 : INFO : EPOCH 4 - PROGRESS: at 66.58% examples, 352546 words/s, in_qsize 0, out_qsize 0\n",
      "2020-02-05 00:34:50,115 : INFO : EPOCH 4 - PROGRESS: at 72.58% examples, 356080 words/s, in_qsize 6, out_qsize 1\n",
      "2020-02-05 00:34:51,152 : INFO : EPOCH 4 - PROGRESS: at 79.51% examples, 362323 words/s, in_qsize 7, out_qsize 0\n",
      "2020-02-05 00:34:52,188 : INFO : EPOCH 4 - PROGRESS: at 86.07% examples, 366288 words/s, in_qsize 7, out_qsize 0\n",
      "2020-02-05 00:34:53,192 : INFO : EPOCH 4 - PROGRESS: at 92.28% examples, 368296 words/s, in_qsize 6, out_qsize 1\n",
      "2020-02-05 00:34:54,202 : INFO : EPOCH 4 - PROGRESS: at 99.12% examples, 372470 words/s, in_qsize 0, out_qsize 1\n",
      "2020-02-05 00:34:54,273 : INFO : worker thread finished; awaiting finish of 3 more threads\n",
      "2020-02-05 00:34:54,283 : INFO : worker thread finished; awaiting finish of 2 more threads\n",
      "2020-02-05 00:34:54,293 : INFO : worker thread finished; awaiting finish of 1 more threads\n",
      "2020-02-05 00:34:54,307 : INFO : worker thread finished; awaiting finish of 0 more threads\n",
      "2020-02-05 00:34:54,307 : INFO : EPOCH - 4 : training on 7107093 raw words (5354884 effective words) took 14.3s, 373431 effective words/s\n"
     ]
    },
    {
     "name": "stderr",
     "output_type": "stream",
     "text": [
      "2020-02-05 00:34:54,312 : INFO : INITIATED: Processing sentences for sample_bitcoin.stackexchange_paras.txt\n",
      "2020-02-05 00:34:55,333 : INFO : EPOCH 5 - PROGRESS: at 6.56% examples, 363670 words/s, in_qsize 2, out_qsize 1\n",
      "2020-02-05 00:34:56,348 : INFO : EPOCH 5 - PROGRESS: at 14.45% examples, 371911 words/s, in_qsize 4, out_qsize 0\n",
      "2020-02-05 00:34:57,395 : INFO : EPOCH 5 - PROGRESS: at 22.68% examples, 375887 words/s, in_qsize 4, out_qsize 0\n",
      "2020-02-05 00:34:58,402 : INFO : EPOCH 5 - PROGRESS: at 30.78% examples, 380059 words/s, in_qsize 0, out_qsize 0\n",
      "2020-02-05 00:34:59,411 : INFO : EPOCH 5 - PROGRESS: at 38.46% examples, 375867 words/s, in_qsize 1, out_qsize 0\n",
      "2020-02-05 00:35:00,430 : INFO : EPOCH 5 - PROGRESS: at 47.08% examples, 375342 words/s, in_qsize 0, out_qsize 0\n",
      "2020-02-05 00:35:01,437 : INFO : EPOCH 5 - PROGRESS: at 55.49% examples, 376968 words/s, in_qsize 1, out_qsize 0\n",
      "2020-02-05 00:35:02,437 : INFO : EPOCH 5 - PROGRESS: at 63.42% examples, 375900 words/s, in_qsize 0, out_qsize 0\n",
      "2020-02-05 00:35:02,652 : INFO : INITIATED: Processing sentences for sample_bitcoin.stackexchange_sentences.txt\n",
      "2020-02-05 00:35:03,451 : INFO : EPOCH 5 - PROGRESS: at 70.15% examples, 378123 words/s, in_qsize 5, out_qsize 0\n",
      "2020-02-05 00:35:04,452 : INFO : EPOCH 5 - PROGRESS: at 76.38% examples, 380308 words/s, in_qsize 7, out_qsize 0\n",
      "2020-02-05 00:35:05,456 : INFO : EPOCH 5 - PROGRESS: at 82.97% examples, 383425 words/s, in_qsize 7, out_qsize 0\n",
      "2020-02-05 00:35:06,465 : INFO : EPOCH 5 - PROGRESS: at 89.03% examples, 383960 words/s, in_qsize 6, out_qsize 1\n",
      "2020-02-05 00:35:07,489 : INFO : EPOCH 5 - PROGRESS: at 96.01% examples, 387449 words/s, in_qsize 7, out_qsize 0\n",
      "2020-02-05 00:35:08,012 : INFO : worker thread finished; awaiting finish of 3 more threads\n",
      "2020-02-05 00:35:08,014 : INFO : worker thread finished; awaiting finish of 2 more threads\n",
      "2020-02-05 00:35:08,021 : INFO : worker thread finished; awaiting finish of 1 more threads\n",
      "2020-02-05 00:35:08,038 : INFO : worker thread finished; awaiting finish of 0 more threads\n",
      "2020-02-05 00:35:08,039 : INFO : EPOCH - 5 : training on 7107093 raw words (5355268 effective words) took 13.7s, 390134 effective words/s\n",
      "2020-02-05 00:35:08,039 : INFO : training on a 35535465 raw words (26775328 effective words) took 78.2s, 342436 effective words/s\n"
     ]
    }
   ],
   "source": [
    "\n",
    "\n",
    "model = gensim.models.Word2Vec(sentences,  workers=4, size=300, min_count = 1, window = 15, sample = 1e-3)"
   ]
  },
  {
   "cell_type": "code",
   "execution_count": 8,
   "metadata": {},
   "outputs": [
    {
     "name": "stderr",
     "output_type": "stream",
     "text": [
      "2020-02-05 00:35:08,047 : INFO : saving Word2Vec object under stackexchange_model, separately None\n",
      "2020-02-05 00:35:08,050 : INFO : storing np array 'vectors' to stackexchange_model.wv.vectors.npy\n",
      "2020-02-05 00:35:08,586 : INFO : not storing attribute vectors_norm\n",
      "2020-02-05 00:35:08,587 : INFO : storing np array 'syn1neg' to stackexchange_model.trainables.syn1neg.npy\n",
      "2020-02-05 00:35:09,125 : INFO : not storing attribute cum_table\n",
      "2020-02-05 00:35:09,126 : WARNING : this function is deprecated, use smart_open.open instead\n",
      "2020-02-05 00:35:09,300 : INFO : saved stackexchange_model\n"
     ]
    }
   ],
   "source": [
    "model_name = \"stackexchange_model\"\n",
    "model.save(model_name)"
   ]
  },
  {
   "cell_type": "code",
   "execution_count": 9,
   "metadata": {},
   "outputs": [
    {
     "name": "stdout",
     "output_type": "stream",
     "text": [
      "48748\n"
     ]
    }
   ],
   "source": [
    "print(len(model.wv.vocab))"
   ]
  },
  {
   "cell_type": "code",
   "execution_count": 10,
   "metadata": {},
   "outputs": [
    {
     "name": "stderr",
     "output_type": "stream",
     "text": [
      "/home/ubuntu/Documents/venv/lib/python3.6/site-packages/ipykernel_launcher.py:2: DeprecationWarning: Call to deprecated `doesnt_match` (Method will be removed in 4.0.0, use self.wv.doesnt_match() instead).\n",
      "  \n",
      "2020-02-05 00:35:10,387 : INFO : precomputing L2-norms of word weight vectors\n",
      "/home/ubuntu/Documents/venv/lib/python3.6/site-packages/gensim/models/keyedvectors.py:876: FutureWarning: arrays to stack must be passed as a \"sequence\" type such as list or tuple. Support for non-sequence iterables such as generators is deprecated as of NumPy 1.16 and will raise an error in the future.\n",
      "  vectors = vstack(self.word_vec(word, use_norm=True) for word in used_words).astype(REAL)\n",
      "/home/ubuntu/Documents/venv/lib/python3.6/site-packages/ipykernel_launcher.py:3: DeprecationWarning: Call to deprecated `doesnt_match` (Method will be removed in 4.0.0, use self.wv.doesnt_match() instead).\n",
      "  This is separate from the ipykernel package so we can avoid doing imports until\n",
      "/home/ubuntu/Documents/venv/lib/python3.6/site-packages/ipykernel_launcher.py:4: DeprecationWarning: Call to deprecated `doesnt_match` (Method will be removed in 4.0.0, use self.wv.doesnt_match() instead).\n",
      "  after removing the cwd from sys.path.\n",
      "/home/ubuntu/Documents/venv/lib/python3.6/site-packages/ipykernel_launcher.py:5: DeprecationWarning: Call to deprecated `doesnt_match` (Method will be removed in 4.0.0, use self.wv.doesnt_match() instead).\n",
      "  \"\"\"\n",
      "/home/ubuntu/Documents/venv/lib/python3.6/site-packages/ipykernel_launcher.py:6: DeprecationWarning: Call to deprecated `doesnt_match` (Method will be removed in 4.0.0, use self.wv.doesnt_match() instead).\n",
      "  \n",
      "2020-02-05 00:35:10,521 : WARNING : vectors for words {'internship'} are not present in the model, ignoring these words\n"
     ]
    },
    {
     "name": "stdout",
     "output_type": "stream",
     "text": [
      "html\n",
      "html\n",
      "redhat\n",
      "hot\n",
      "training\n"
     ]
    }
   ],
   "source": [
    "print (model.doesnt_match(\"java html javascript\".split()))\n",
    "print (model.doesnt_match(\"java python html javascript\".split()))\n",
    "print (model.doesnt_match(\"server linux windows redhat\".split()))\n",
    "print (model.doesnt_match(\"cool hot big\".split()))\n",
    "print (model.doesnt_match(\"internship job training\".split()))"
   ]
  },
  {
   "cell_type": "code",
   "execution_count": 11,
   "metadata": {},
   "outputs": [
    {
     "name": "stderr",
     "output_type": "stream",
     "text": [
      "/home/ubuntu/Documents/venv/lib/python3.6/site-packages/ipykernel_launcher.py:2: DeprecationWarning: Call to deprecated `most_similar` (Method will be removed in 4.0.0, use self.wv.most_similar() instead).\n",
      "  \n"
     ]
    },
    {
     "name": "stdout",
     "output_type": "stream",
     "text": [
      "[('mapcheckpoints', 0.7360373139381409)]\n",
      "[('npmjs', 0.49949562549591064)]\n",
      "[('cash', 0.4252077341079712)]\n",
      "[('her', 0.821165144443512)]\n",
      "[('balloons', 0.6383827924728394)]\n"
     ]
    },
    {
     "name": "stderr",
     "output_type": "stream",
     "text": [
      "/home/ubuntu/Documents/venv/lib/python3.6/site-packages/ipykernel_launcher.py:4: DeprecationWarning: Call to deprecated `most_similar` (Method will be removed in 4.0.0, use self.wv.most_similar() instead).\n",
      "  after removing the cwd from sys.path.\n",
      "/home/ubuntu/Documents/venv/lib/python3.6/site-packages/ipykernel_launcher.py:6: DeprecationWarning: Call to deprecated `most_similar` (Method will be removed in 4.0.0, use self.wv.most_similar() instead).\n",
      "  \n",
      "/home/ubuntu/Documents/venv/lib/python3.6/site-packages/ipykernel_launcher.py:8: DeprecationWarning: Call to deprecated `most_similar` (Method will be removed in 4.0.0, use self.wv.most_similar() instead).\n",
      "  \n",
      "/home/ubuntu/Documents/venv/lib/python3.6/site-packages/ipykernel_launcher.py:10: DeprecationWarning: Call to deprecated `most_similar` (Method will be removed in 4.0.0, use self.wv.most_similar() instead).\n",
      "  # Remove the CWD from sys.path while we load stuff.\n"
     ]
    }
   ],
   "source": [
    "print (model.most_similar(positive=['woman', 'king'], negative=['man'], topn=1))\n",
    "print (model.most_similar(positive=['java', 'html'], negative=['css'], topn=1))\n",
    "print (model.most_similar(positive=['paris', 'germany'], negative=['berlin'], topn=1))\n",
    "print (model.most_similar(positive=['she', 'his'], negative=['he'], topn=1))\n",
    "print (model.most_similar(positive=['osx', 'microsoft'], negative=['windows'], topn=1))"
   ]
  },
  {
   "cell_type": "code",
   "execution_count": 13,
   "metadata": {},
   "outputs": [
    {
     "name": "stdout",
     "output_type": "stream",
     "text": [
      "0.34653968\n",
      "0.26252726\n",
      "0.40235037\n"
     ]
    },
    {
     "name": "stderr",
     "output_type": "stream",
     "text": [
      "/home/ubuntu/Documents/venv/lib/python3.6/site-packages/ipykernel_launcher.py:1: DeprecationWarning: Call to deprecated `similarity` (Method will be removed in 4.0.0, use self.wv.similarity() instead).\n",
      "  \"\"\"Entry point for launching an IPython kernel.\n",
      "/home/ubuntu/Documents/venv/lib/python3.6/site-packages/ipykernel_launcher.py:2: DeprecationWarning: Call to deprecated `similarity` (Method will be removed in 4.0.0, use self.wv.similarity() instead).\n",
      "  \n",
      "/home/ubuntu/Documents/venv/lib/python3.6/site-packages/ipykernel_launcher.py:3: DeprecationWarning: Call to deprecated `similarity` (Method will be removed in 4.0.0, use self.wv.similarity() instead).\n",
      "  This is separate from the ipykernel package so we can avoid doing imports until\n"
     ]
    }
   ],
   "source": [
    "print(model.similarity('wallet','android'))\n",
    "print(model.similarity('wallet','purse'))\n",
    "print(model.similarity('windows','microsoft'))\n"
   ]
  },
  {
   "cell_type": "code",
   "execution_count": 14,
   "metadata": {},
   "outputs": [
    {
     "name": "stderr",
     "output_type": "stream",
     "text": [
      "2020-02-05 00:42:42,096 : INFO : loading Word2Vec object from stackexchange_model\n",
      "2020-02-05 00:42:42,098 : WARNING : this function is deprecated, use smart_open.open instead\n",
      "2020-02-05 00:42:42,307 : INFO : loading wv recursively from stackexchange_model.wv.* with mmap=None\n",
      "2020-02-05 00:42:42,308 : INFO : loading vectors from stackexchange_model.wv.vectors.npy with mmap=None\n",
      "2020-02-05 00:42:43,923 : INFO : setting ignored attribute vectors_norm to None\n",
      "2020-02-05 00:42:43,924 : INFO : loading vocabulary recursively from stackexchange_model.vocabulary.* with mmap=None\n",
      "2020-02-05 00:42:43,925 : INFO : loading trainables recursively from stackexchange_model.trainables.* with mmap=None\n",
      "2020-02-05 00:42:43,926 : INFO : loading syn1neg from stackexchange_model.trainables.syn1neg.npy with mmap=None\n",
      "2020-02-05 00:42:45,965 : INFO : setting ignored attribute cum_table to None\n",
      "2020-02-05 00:42:45,966 : INFO : loaded stackexchange_model\n"
     ]
    }
   ],
   "source": [
    "model = gensim.models.Word2Vec.load('stackexchange_model')\n"
   ]
  },
  {
   "cell_type": "code",
   "execution_count": null,
   "metadata": {},
   "outputs": [],
   "source": []
  }
 ],
 "metadata": {
  "anaconda-cloud": {},
  "kernelspec": {
   "display_name": "Python 3",
   "language": "python",
   "name": "python3"
  },
  "language_info": {
   "codemirror_mode": {
    "name": "ipython",
    "version": 3
   },
   "file_extension": ".py",
   "mimetype": "text/x-python",
   "name": "python",
   "nbconvert_exporter": "python",
   "pygments_lexer": "ipython3",
   "version": "3.6.7"
  }
 },
 "nbformat": 4,
 "nbformat_minor": 1
}
